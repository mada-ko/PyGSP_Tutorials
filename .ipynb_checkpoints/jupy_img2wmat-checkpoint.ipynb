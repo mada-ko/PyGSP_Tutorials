{
 "cells": [
  {
   "cell_type": "code",
   "execution_count": 2,
   "metadata": {
    "collapsed": true
   },
   "outputs": [],
   "source": [
    "import numpy as np\n",
    "Img_row = 4\n",
    "Img_col = 5\n",
    "Img = np.random.randn(Img_row, Img_col)\n",
    "\n",
    "Img_vec = np.reshape(Img, (Img_row*Img_col, 1), order='F')\n",
    "idx = np.c_[np.arange(Img_row*Img_col)]  # Convert to \n",
    "xx, yy = np.meshgrid(Img_vec, Img_vec)\n",
    "diff = xx - yy\n",
    "\n",
    "diff = diff.flatten()\n",
    "diff = np.fabs(diff)\n",
    "\n",
    "# ones_mat = np.ones((Img_row*Img_col, 1))\n",
    "# Img_row_mat = Img_row*ones_mat\n",
    "\n",
    "adj_idx = np.tile(idx, (1, 8))\n",
    "adj_idx[:, 0] += -Img_row-1\n",
    "adj_idx[:, 1] += -Img_row\n",
    "adj_idx[:, 2] += -Img_row+1\n",
    "adj_idx[:, 3] += -1\n",
    "adj_idx[:, 4] += +1\n",
    "adj_idx[:, 5] += Img_row-1\n",
    "adj_idx[:, 6] += Img_row\n",
    "adj_idx[:, 7] += Img_row+1\n",
    "\n",
    "# Exception handling\n",
    "up_idx = np.arange(start=0, stop=Img_row*Img_col, step=Img_row)\n",
    "down_idx = np.arange(start=Img_row-1, stop=Img_row*Img_col, step=Img_row)\n",
    "\n",
    "adj_idx[np.ix_(up_idx, [0, 3, 5])] = -10\n",
    "adj_idx[np.ix_(down_idx, [2, 4, 7])] = -10\n",
    "\n",
    "adj_idx[adj_idx < 0] = -(Img_row**2)*(Img_col**2)\n",
    "adj_idx[adj_idx > Img_row*Img_col-1] = -(Img_row**2)*(Img_col**2)\n",
    "\n",
    "idx_add = np.c_[np.arange(start=0, stop=(Img_row**2)*(Img_col**2), step=Img_row*Img_col)]\n",
    "add_mat = np.tile(idx_add, (1, 8))\n",
    "adj_idx = adj_idx + add_mat\n",
    "\n",
    "idx = adj_idx[adj_idx > 0]\n",
    "W_mat = diff.copy()\n",
    "diff[idx] = -1\n",
    "W_mat = W_mat * (diff == -1)\n",
    "\n",
    "W_mat = np.reshape(W_mat, (Img_row*Img_col, Img_row*Img_col))\n"
   ]
  },
  {
   "cell_type": "code",
   "execution_count": 6,
   "metadata": {},
   "outputs": [
    {
     "name": "stdout",
     "output_type": "stream",
     "text": [
      "0 [-1 -1 -1 -1  1 -1  4  5]\n",
      "1 [-1 -1 -1  0  2  4  5  6]\n",
      "2 [-1 -1 -1  1  3  5  6  7]\n",
      "3 [-1 -1 -1  2 -1  6  7 -1]\n",
      "4 [-1  0  1 -1  5 -1  8  9]\n",
      "5 [ 0  1  2  4  6  8  9 10]\n",
      "6 [ 1  2  3  5  7  9 10 11]\n",
      "7 [ 2  3 -1  6 -1 10 11 -1]\n",
      "8 [-1  4  5 -1  9 -1 12 13]\n",
      "9 [ 4  5  6  8 10 12 13 14]\n",
      "10 [ 5  6  7  9 11 13 14 15]\n",
      "11 [ 6  7 -1 10 -1 14 15 -1]\n",
      "12 [-1  8  9 -1 13 -1 16 17]\n",
      "13 [ 8  9 10 12 14 16 17 18]\n",
      "14 [ 9 10 11 13 15 17 18 19]\n",
      "15 [10 11 -1 14 -1 18 19 -1]\n",
      "16 [-1 12 13 -1 17 -1 -1 -1]\n",
      "17 [12 13 14 16 18 -1 -1 -1]\n",
      "18 [13 14 15 17 19 -1 -1 -1]\n",
      "19 [14 15 -1 18 -1 -1 -1 -1]\n"
     ]
    }
   ],
   "source": [
    "import numpy as np\n",
    "import scipy.sparse as sp\n",
    "from utils_gsp import * \n",
    "\n",
    "img_row = 4\n",
    "img_col = 5\n",
    "img = np.random.randn(img_row, img_col)\n",
    "img_vec = img.flatten()\n",
    "wmat_size = img_row*img_col\n",
    "\n",
    "neigbhor_idx = img_neighbor_indices(img, 8)\n",
    "neigbhor_idx = neigbhor_idx.transpose()\n",
    "\n",
    "sp_wmat = sp.lil_matrix((wmat_size, wmat_size ))\n",
    "\n",
    "for pixel, neigbor in enumerate(neigbhor_idx):\n",
    "    neigbor = neigbor > pixel\n",
    "    sp_wmat((pixel, neigbor)) = \n",
    "\n"
   ]
  },
  {
   "cell_type": "code",
   "execution_count": null,
   "metadata": {
    "collapsed": true
   },
   "outputs": [],
   "source": []
  },
  {
   "cell_type": "code",
   "execution_count": null,
   "metadata": {
    "collapsed": true
   },
   "outputs": [],
   "source": []
  },
  {
   "cell_type": "code",
   "execution_count": null,
   "metadata": {
    "collapsed": true
   },
   "outputs": [],
   "source": []
  },
  {
   "cell_type": "code",
   "execution_count": null,
   "metadata": {
    "collapsed": true
   },
   "outputs": [],
   "source": []
  }
 ],
 "metadata": {
  "kernelspec": {
   "display_name": "Python 3",
   "language": "python",
   "name": "python3"
  },
  "language_info": {
   "codemirror_mode": {
    "name": "ipython",
    "version": 3
   },
   "file_extension": ".py",
   "mimetype": "text/x-python",
   "name": "python",
   "nbconvert_exporter": "python",
   "pygments_lexer": "ipython3",
   "version": "3.6.2"
  }
 },
 "nbformat": 4,
 "nbformat_minor": 2
}
